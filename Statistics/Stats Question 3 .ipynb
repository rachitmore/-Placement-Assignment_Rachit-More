{
 "cells": [
  {
   "cell_type": "markdown",
   "id": "4448a891",
   "metadata": {},
   "source": [
    "Q-3. Consider the ‘Blood Pressure Before’ and ‘Blood Pressure After’ columns from the data and calculate the following\n",
    "\n",
    "* a. Measure the dispersion in both and interpret the results.\n",
    "* b. Calculate mean and 5% confidence interval and plot it in a graph\n",
    "* c. Calculate the Mean absolute deviation and Standard deviation and interpret the results.\n",
    "* d. Calculate the correlation coefficient and check the significance of it at 1% level of significance."
   ]
  },
  {
   "cell_type": "markdown",
   "id": "46563d2f",
   "metadata": {},
   "source": [
    "Dataset link - https://drive.google.com/file/d/1mCjtYHiX--mMUjicuaP2gH3k-SnFxt8Y/view?usp=share_"
   ]
  },
  {
   "cell_type": "code",
   "execution_count": 1,
   "id": "2d43cae2",
   "metadata": {},
   "outputs": [
    {
     "data": {
      "text/html": [
       "<div>\n",
       "<style scoped>\n",
       "    .dataframe tbody tr th:only-of-type {\n",
       "        vertical-align: middle;\n",
       "    }\n",
       "\n",
       "    .dataframe tbody tr th {\n",
       "        vertical-align: top;\n",
       "    }\n",
       "\n",
       "    .dataframe thead th {\n",
       "        text-align: right;\n",
       "    }\n",
       "</style>\n",
       "<table border=\"1\" class=\"dataframe\">\n",
       "  <thead>\n",
       "    <tr style=\"text-align: right;\">\n",
       "      <th></th>\n",
       "      <th>Patient ID</th>\n",
       "      <th>Blood Pressure Before (mmHg)</th>\n",
       "      <th>Blood Pressure After (mmHg)</th>\n",
       "    </tr>\n",
       "  </thead>\n",
       "  <tbody>\n",
       "    <tr>\n",
       "      <th>0</th>\n",
       "      <td>1</td>\n",
       "      <td>130</td>\n",
       "      <td>120</td>\n",
       "    </tr>\n",
       "    <tr>\n",
       "      <th>1</th>\n",
       "      <td>2</td>\n",
       "      <td>142</td>\n",
       "      <td>135</td>\n",
       "    </tr>\n",
       "    <tr>\n",
       "      <th>2</th>\n",
       "      <td>3</td>\n",
       "      <td>120</td>\n",
       "      <td>118</td>\n",
       "    </tr>\n",
       "    <tr>\n",
       "      <th>3</th>\n",
       "      <td>4</td>\n",
       "      <td>135</td>\n",
       "      <td>127</td>\n",
       "    </tr>\n",
       "    <tr>\n",
       "      <th>4</th>\n",
       "      <td>5</td>\n",
       "      <td>148</td>\n",
       "      <td>140</td>\n",
       "    </tr>\n",
       "  </tbody>\n",
       "</table>\n",
       "</div>"
      ],
      "text/plain": [
       "   Patient ID   Blood Pressure Before (mmHg)   Blood Pressure After (mmHg)\n",
       "0           1                            130                           120\n",
       "1           2                            142                           135\n",
       "2           3                            120                           118\n",
       "3           4                            135                           127\n",
       "4           5                            148                           140"
      ]
     },
     "execution_count": 1,
     "metadata": {},
     "output_type": "execute_result"
    }
   ],
   "source": [
    "import pandas as pd\n",
    "import numpy as np\n",
    "import seaborn as sns\n",
    "import matplotlib.pyplot as plt\n",
    "\n",
    "# Read the data from CSV file\n",
    "df = pd.read_csv('dataset/Blood_Pressure.csv')\n",
    "df.head()"
   ]
  },
  {
   "cell_type": "code",
   "execution_count": 3,
   "id": "d2dcd1db",
   "metadata": {},
   "outputs": [
    {
     "data": {
      "text/plain": [
       "Index(['Patient ID', ' Blood Pressure Before (mmHg)',\n",
       "       ' Blood Pressure After (mmHg)'],\n",
       "      dtype='object')"
      ]
     },
     "execution_count": 3,
     "metadata": {},
     "output_type": "execute_result"
    }
   ],
   "source": [
    "df.columns"
   ]
  },
  {
   "cell_type": "code",
   "execution_count": 4,
   "id": "c63906f3",
   "metadata": {},
   "outputs": [],
   "source": [
    "# Extract the 'Blood Pressure Before' and 'Blood Pressure After' columns\n",
    "bp_before = df[' Blood Pressure Before (mmHg)']\n",
    "bp_after = df[' Blood Pressure After (mmHg)']"
   ]
  },
  {
   "cell_type": "code",
   "execution_count": 6,
   "id": "bd1b23ba",
   "metadata": {},
   "outputs": [
    {
     "name": "stdout",
     "output_type": "stream",
     "text": [
      "Dispersion (Std) of Blood Pressure Before: 6.5652037287505385\n",
      "Dispersion (Std) of Blood Pressure After: 6.853495458523338\n"
     ]
    }
   ],
   "source": [
    "# a. Measure the dispersion in both and interpret the results.\n",
    "\n",
    "dispersion_before = np.std(bp_before)\n",
    "dispersion_after = np.std(bp_after)\n",
    "\n",
    "print(\"Dispersion (Std) of Blood Pressure Before:\", dispersion_before)\n",
    "print(\"Dispersion (Std) of Blood Pressure After:\", dispersion_after)"
   ]
  },
  {
   "cell_type": "code",
   "execution_count": 86,
   "id": "a1303f63",
   "metadata": {},
   "outputs": [
    {
     "name": "stderr",
     "output_type": "stream",
     "text": [
      "No artists with labels found to put in legend.  Note that artists whose label start with an underscore are ignored when legend() is called with no argument.\n"
     ]
    },
    {
     "data": {
      "image/png": "[encoded data removed]",
      "text/plain": [
       "<Figure size 640x480 with 1 Axes>"
      ]
     },
     "metadata": {},
     "output_type": "display_data"
    }
   ],
   "source": [
    "# b. Calculating mean and 5% confidence interval and plot it in a graph\n",
    "from scipy.stats import t\n",
    "\n",
    "m_before = np.mean(bp_before)\n",
    "m_after = np.mean(bp_after)\n",
    "std_before = np.std(bp_before)\n",
    "std_before = np.std(bp_after)\n",
    "confidence = 0.95\n",
    "n= len(bp_before)\n",
    "dof = n-1 \n",
    "\n",
    "t_crit = np.abs(t.ppf((1-confidence)/2,dof))\n",
    "l_fence_before = ((m_before)-(std_before*t_crit))/(np.sqrt(n))\n",
    "u_fence_before = ((m_before)+(std_before*t_crit))/(np.sqrt(n))\n",
    "l_fence_after = ((m_after)-(std_after*t_crit))/(np.sqrt(n))\n",
    "u_fence_after = ((m_after)+(std_after*t_crit))/(np.sqrt(n))\n",
    "\n",
    "\n",
    "confidence_interval_before = u_fence_before - l_fence_before\n",
    "confidence_interval_after = u_fence_after - l_fence_after\n",
    "\n",
    "m = [m_before,m_after]\n",
    "ci = [confidence_interval_before,confidence_interval_after]\n",
    "\n",
    "# Plotting\n",
    "plt.scatter(x = m , y = ci)\n",
    "plt.xlabel(\"Mean\")\n",
    "plt.ylabel('Confidence Interval')\n",
    "plt.legend()\n",
    "plt.show()"
   ]
  },
  {
   "cell_type": "code",
   "execution_count": 10,
   "id": "dbdf388d",
   "metadata": {},
   "outputs": [
    {
     "name": "stdout",
     "output_type": "stream",
     "text": [
      "Mean Absolute Deviation (MAD) of Blood Pressure Before: 5.7118\n",
      "Mean Absolute Deviation (MAD) of Blood Pressure After: 5.9\n",
      "Standard Deviation (Std) of Blood Pressure Before: 6.5652037287505385\n",
      "Standard Deviation (Std) of Blood Pressure After: 6.853495458523338\n"
     ]
    }
   ],
   "source": [
    "# c. Calculate the Mean absolute deviation and Standard deviation and interpret the results\n",
    "\n",
    "mad_before = np.mean(np.abs(bp_before - np.mean(bp_before)))\n",
    "mad_after = np.mean(np.abs(bp_after - np.mean(bp_after)))\n",
    "\n",
    "std_before = np.std(bp_before)\n",
    "std_after = np.std(bp_after)\n",
    "\n",
    "print(\"Mean Absolute Deviation (MAD) of Blood Pressure Before:\", mad_before)\n",
    "print(\"Mean Absolute Deviation (MAD) of Blood Pressure After:\", mad_after)\n",
    "print(\"Standard Deviation (Std) of Blood Pressure Before:\", std_before)\n",
    "print(\"Standard Deviation (Std) of Blood Pressure After:\", std_after)"
   ]
  },
  {
   "cell_type": "code",
   "execution_count": 12,
   "id": "42509ec2",
   "metadata": {},
   "outputs": [
    {
     "name": "stdout",
     "output_type": "stream",
     "text": [
      "The correlation coefficient is significant at the 1% level of significance.\n"
     ]
    }
   ],
   "source": [
    "# d. Calculate the correlation coefficient and check the significance of it at 1% level of significance.\n",
    "from scipy import stats\n",
    "correlation_coef = np.corrcoef(bp_before, bp_after)[0, 1]\n",
    "n = len(bp_before)\n",
    "degrees_of_freedom = n - 2\n",
    "\n",
    "# Calculate t-value for a one-tailed test at 1% level of significance\n",
    "t_critical = np.abs(np.round(stats.t.ppf(0.01, df=degrees_of_freedom), 2))\n",
    "\n",
    "# Calculate the standard error of correlation coefficient\n",
    "se_correlation = np.sqrt((1 - correlation_coef ** 2) / degrees_of_freedom)\n",
    "\n",
    "# Calculate the t-value for correlation coefficient\n",
    "t_value = correlation_coef / se_correlation\n",
    "\n",
    "# Check if the correlation coefficient is significant at 1% level of significance\n",
    "if np.abs(t_value) > t_critical:\n",
    "    print(\"The correlation coefficient is significant at the 1% level of significance.\")\n",
    "else:\n",
    "    print(\"The correlation coefficient is not significant at the 1% level of significance.\")\n"
   ]
  },
  {
   "cell_type": "code",
   "execution_count": null,
   "id": "087ff3c9",
   "metadata": {},
   "outputs": [],
   "source": []
  }
 ],
 "metadata": {
  "kernelspec": {
   "display_name": "Python 3 (ipykernel)",
   "language": "python",
   "name": "python3"
  },
  "language_info": {
   "codemirror_mode": {
    "name": "ipython",
    "version": 3
   },
   "file_extension": ".py",
   "mimetype": "text/x-python",
   "name": "python",
   "nbconvert_exporter": "python",
   "pygments_lexer": "ipython3",
   "version": "3.9.16"
  }
 },
 "nbformat": 4,
 "nbformat_minor": 5
}
