{
 "cells": [
  {
   "cell_type": "markdown",
   "id": "c2c72a7c",
   "metadata": {},
   "source": [
    "Q-5. A certain city has two taxi companies: Company A has 80% of the taxis and Company B has 20% of the taxis. Company A's taxis have a 95% success rate for picking up passengers on time, while Company B's taxis have a 90% success rate. If a randomly selected taxi is late, what is the probability that it belongs to Company A? \n",
    "\n",
    "\n",
    "    P(A|L) = (P(L|A) * P(A)) / (P(L|A) * P(A) + P(L|B) * P(B))\n",
    "    P(A|L) = (0.05 * 0.8) / (0.05 * 0.8 + 0.10 * 0.2)\n",
    "    P(A|L) = 0.04 / (0.04 + 0.02) = 0.04 / 0.06\n",
    "    P(A|L) = 0.6667\n",
    "Ans - The probability that a randomly selected late taxi belongs to Company A is approximately 0.6667 or 66.67%.\n"
   ]
  },
  {
   "cell_type": "code",
   "execution_count": null,
   "id": "d40f9845",
   "metadata": {},
   "outputs": [],
   "source": []
  }
 ],
 "metadata": {
  "kernelspec": {
   "display_name": "Python 3 (ipykernel)",
   "language": "python",
   "name": "python3"
  },
  "language_info": {
   "codemirror_mode": {
    "name": "ipython",
    "version": 3
   },
   "file_extension": ".py",
   "mimetype": "text/x-python",
   "name": "python",
   "nbconvert_exporter": "python",
   "pygments_lexer": "ipython3",
   "version": "3.9.16"
  }
 },
 "nbformat": 4,
 "nbformat_minor": 5
}
