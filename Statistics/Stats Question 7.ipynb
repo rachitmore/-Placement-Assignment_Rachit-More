{
 "cells": [
  {
   "cell_type": "markdown",
   "id": "053e6b9a",
   "metadata": {},
   "source": [
    "Q-7. The equations of two lines of regression, obtained in a correlation analysis between variables X and Y are as follows: and . 2𝑋 + 3 − 8 = 0 2𝑌 + 𝑋 − 5 = 0 The variance of 𝑋 = 4 Find the a. Variance of Y b. Coefficient of determination of C and Y c. Standard error of estimate of X on Y and of Y on X.\n",
    "\n",
    "Answer. 7\n",
    "\n",
    "    The regression equations given are:   \n",
    "    2x + 3 - 8 = 0\n",
    "    2y + x - 5 = 0\n",
    "    To solve for x and y, we can rearrange the equations as follows:\n",
    "       \n",
    "    2x = 5-x\n",
    "    3x = 5\n",
    "    x = 5/3\n",
    "\n",
    "    2y = 8 - x\n",
    "    2y = 8 - (5/3)\n",
    "    y = 19/6\n",
    "\n",
    "    The values of x and y are 5/3 and 19/6, respectively.\n",
    "    \n",
    "    Var(x) = Σ((x - μ)^2) / n\n",
    "\n",
    "    Var(Y) = (1 / (n - k)) * Σ(residuals^2)\n",
    "    \n",
    "    here we need multiple variable to solve the equation and we do not have sufficient data to interpret\n",
    "    k = ?\n",
    "    residuals = ?\n",
    "    μ = ?\n"
   ]
  },
  {
   "cell_type": "code",
   "execution_count": null,
   "id": "4e1d8664",
   "metadata": {},
   "outputs": [],
   "source": []
  }
 ],
 "metadata": {
  "kernelspec": {
   "display_name": "Python 3 (ipykernel)",
   "language": "python",
   "name": "python3"
  },
  "language_info": {
   "codemirror_mode": {
    "name": "ipython",
    "version": 3
   },
   "file_extension": ".py",
   "mimetype": "text/x-python",
   "name": "python",
   "nbconvert_exporter": "python",
   "pygments_lexer": "ipython3",
   "version": "3.9.16"
  }
 },
 "nbformat": 4,
 "nbformat_minor": 5
}
