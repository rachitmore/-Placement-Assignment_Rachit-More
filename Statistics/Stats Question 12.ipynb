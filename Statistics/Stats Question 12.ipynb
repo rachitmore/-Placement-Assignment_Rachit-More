{
 "cells": [
  {
   "cell_type": "markdown",
   "id": "d05fdc17",
   "metadata": {},
   "source": [
    "Q-12. A pharmaceutical company develops a new drug and wants to compare its effectiveness against a standard drug for treating a particular condition. They conduct a study with two groups: Group A receives the new drug, and Group B receives the standard drug. The company measures the improvement in a specific symptom for both groups after a 4-week treatment period. \n",
    "\n",
    "* a. The company collects data from 30 patients in each group and calculates the mean improvement score and the standard deviation of improvement for each group. The mean improvement score for Group A is 2.5 with a standard deviation of 0.8, while the mean improvement score for Group B is 2.2 with a standard deviation of 0.6. Conduct a t-test to determine if there is a significant difference in the mean improvement scores between the two groups. Use a significance level of 0.05. \n",
    "\n",
    "* b. Based on the t-test results, state whether the null hypothesis should be rejected or not. Provide a conclusion in the context of the study"
   ]
  },
  {
   "cell_type": "markdown",
   "id": "089632d1",
   "metadata": {},
   "source": [
    "States hypothesis\n",
    "\n",
    "(H0): There is no significant difference in the mean improvement scores between the two groups.\n",
    "\n",
    "(HA): There is a significant difference in the mean improvement scores between the two groups."
   ]
  },
  {
   "cell_type": "markdown",
   "id": "80c3825d",
   "metadata": {},
   "source": [
    "Decision Boundary :\n",
    "* Condidence Level = 95%\n",
    "* Significance level of 0.05 \n",
    "* alpha  = 0.05 "
   ]
  },
  {
   "cell_type": "code",
   "execution_count": 13,
   "id": "e15edfb8",
   "metadata": {},
   "outputs": [
    {
     "name": "stdout",
     "output_type": "stream",
     "text": [
      "Independent Samples t-test:\n",
      "t-statistic: 1.6431676725154976\n",
      "p-value: 0.10575916705583671\n",
      "By t_statistics\n",
      "we fail to reject the null hypothesis\n",
      "There is no significant difference in the mean improvement scores between the two groups.\n",
      "By p_value\n",
      "we fail to reject the null hypothesis\n",
      "There is no significant difference in the mean improvement scores between the two groups.\n"
     ]
    }
   ],
   "source": [
    "import scipy.stats as stats\n",
    "\n",
    "alpha = 0.05\n",
    "group_a_mean = 2.5\n",
    "group_a_std_dev = 0.8\n",
    "group_n = 30\n",
    "\n",
    "group_b_mean = 2.2\n",
    "group_b_std_dev = 0.6\n",
    "\n",
    "\n",
    "# Perform t-test\n",
    "t_statistic, p_value = stats.ttest_ind_from_stats(group_a_mean,group_a_std_dev,group_n,\n",
    "                                                  group_b_mean,group_b_std_dev,group_n,\n",
    "                                                  alternative='two-sided')\n",
    "\n",
    "df = group_n-1\n",
    "t_critical = stats.t.ppf(1 - alpha/2, df)\n",
    "\n",
    "print(\"Independent Samples t-test:\")\n",
    "print(\"t-statistic:\", t_statistic)\n",
    "print(\"p-value:\", p_value)\n",
    "\n",
    "print(\"By t_statistics\")\n",
    "if t_statistic<t_critical:\n",
    "    \n",
    "    print(\"we fail to reject the null hypothesis\")\n",
    "    print(\"There is no significant difference in the mean improvement scores between the two groups.\")\n",
    "else:\n",
    "    print(\"There is a significant difference in the mean improvement scores between the two groups.\")\n",
    " \n",
    "print(\"By p_value\")\n",
    "if p_value < 0.05:\n",
    "    print('we reject the null hypothesis')\n",
    "    print(\"There is a significant difference in the mean improvement scores between the two groups.\")\n",
    "else:\n",
    "    print('we fail to reject the null hypothesis')\n",
    "    print(\"There is no significant difference in the mean improvement scores between the two groups.\")\n"
   ]
  },
  {
   "cell_type": "code",
   "execution_count": null,
   "id": "7820767e",
   "metadata": {},
   "outputs": [],
   "source": []
  }
 ],
 "metadata": {
  "kernelspec": {
   "display_name": "Python 3 (ipykernel)",
   "language": "python",
   "name": "python3"
  },
  "language_info": {
   "codemirror_mode": {
    "name": "ipython",
    "version": 3
   },
   "file_extension": ".py",
   "mimetype": "text/x-python",
   "name": "python",
   "nbconvert_exporter": "python",
   "pygments_lexer": "ipython3",
   "version": "3.9.13"
  }
 },
 "nbformat": 4,
 "nbformat_minor": 5
}
