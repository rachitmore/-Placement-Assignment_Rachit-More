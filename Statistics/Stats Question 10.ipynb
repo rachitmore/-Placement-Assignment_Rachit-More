{
 "cells": [
  {
   "cell_type": "markdown",
   "id": "4312a3ec",
   "metadata": {},
   "source": [
    "Q-10. A factory produces light bulbs, and the probability of a bulb being defective is 0.05. The factory produces a large batch of 500 light bulbs. \n",
    "* a. What is the probability that exactly 20 bulbs are defective? \n",
    "* b. What is the probability that at least 10 bulbs are defective? \n",
    "* c. What is the probability that at max 15 bulbs are defective? \n",
    "* d. On average, how many defective bulbs would you expect in a batch of 500? \n"
   ]
  },
  {
   "cell_type": "code",
   "execution_count": 12,
   "id": "1022f03e",
   "metadata": {},
   "outputs": [],
   "source": [
    "import math\n",
    "n = 500"
   ]
  },
  {
   "cell_type": "code",
   "execution_count": 25,
   "id": "b44dbd36",
   "metadata": {},
   "outputs": [],
   "source": [
    "import math\n",
    "#Creating binomail formula for all calculation\n",
    "def binomial_formula(n, k, p):\n",
    "    \"\"\"Calculate the binomial coefficient using the binomial formula\"\"\"\n",
    "    coefficient = math.comb(n, k)\n",
    "    probability = p**k * (1-p)**(n-k)\n",
    "    return coefficient * probability"
   ]
  },
  {
   "cell_type": "code",
   "execution_count": 26,
   "id": "e978aaae",
   "metadata": {},
   "outputs": [
    {
     "name": "stdout",
     "output_type": "stream",
     "text": [
      "Probability of exactly 20 bulbs being defective: 0.05161619253663996\n"
     ]
    }
   ],
   "source": [
    "# a. What is the probability that exactly 20 bulbs are defective? \n",
    "k = 20\n",
    "p = 0.05\n",
    "probability_20_defective = binomial_formula(n, k, p)\n",
    "print(\"Probability of exactly 20 bulbs being defective:\", probability_20_defective)\n"
   ]
  },
  {
   "cell_type": "code",
   "execution_count": 58,
   "id": "59afd70b",
   "metadata": {},
   "outputs": [
    {
     "name": "stdout",
     "output_type": "stream",
     "text": [
      "Probability of at least 10 bulbs being defective: 0.9998316463727647\n"
     ]
    }
   ],
   "source": [
    "# b. What is the probability that at least 10 bulbs are defective?\n",
    "# First need to find probality of each individual bulb in list\n",
    "k2 = 10\n",
    "prob_each_bulb = []\n",
    "\n",
    "for k in range(1,k2):#add 1 in defective bulb as range exclude the last number\n",
    "    prob = binomial_formula(n, k, p)\n",
    "    prob_each_bulb.append(prob)\n",
    "#sum to find probability of all bulb defective bulb   \n",
    "all_probability = sum(prob_each_bulb)\n",
    "probability_at_least_10_defective = 1 - all_probability\n",
    "print(\"Probability of at least 10 bulbs being defective:\", probability_at_least_10_defective)"
   ]
  },
  {
   "cell_type": "code",
   "execution_count": 59,
   "id": "e9964415",
   "metadata": {},
   "outputs": [
    {
     "name": "stdout",
     "output_type": "stream",
     "text": [
      "Probability of at most 15 bulbs being defective: 0.01985837715573173\n"
     ]
    }
   ],
   "source": [
    "# c. What is the probability that at max 15 bulbs are defective?\n",
    "k3 = 15\n",
    "prob_each_bulb = []\n",
    "for k in range(1,k3+1):#add 1 in defective bulb as range exclude the last number\n",
    "    prob = binomial_formula(n, k, p)\n",
    "    prob_each_bulb.append(prob)\n",
    "#sum to find probability of 15 bulb defective bulb   \n",
    "probability_at_most_15_defective = sum(prob_each_bulb)\n",
    "print(\"Probability of at most 15 bulbs being defective:\", probability_at_most_15_defective)"
   ]
  },
  {
   "cell_type": "code",
   "execution_count": 57,
   "id": "9ce358c5",
   "metadata": {},
   "outputs": [
    {
     "name": "stdout",
     "output_type": "stream",
     "text": [
      "Expected number of defective bulbs: 25.0\n"
     ]
    }
   ],
   "source": [
    "# d. On average, how many defective bulbs would you expect in a batch of 500?\n",
    "expected_defective_bulbs = n * p\n",
    "print(\"Expected number of defective bulbs:\", expected_defective_bulbs)"
   ]
  }
 ],
 "metadata": {
  "kernelspec": {
   "display_name": "Python 3 (ipykernel)",
   "language": "python",
   "name": "python3"
  },
  "language_info": {
   "codemirror_mode": {
    "name": "ipython",
    "version": 3
   },
   "file_extension": ".py",
   "mimetype": "text/x-python",
   "name": "python",
   "nbconvert_exporter": "python",
   "pygments_lexer": "ipython3",
   "version": "3.9.13"
  }
 },
 "nbformat": 4,
 "nbformat_minor": 5
}
