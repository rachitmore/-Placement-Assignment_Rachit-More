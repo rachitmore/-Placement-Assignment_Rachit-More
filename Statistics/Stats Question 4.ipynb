{
 "cells": [
  {
   "cell_type": "markdown",
   "id": "36a0abbb",
   "metadata": {},
   "source": [
    "Q-4. A group of 20 friends decide to play a game in which they each write a number between 1 and 20 on a slip of paper and put it into a hat. They then draw one slip of paper at random. What is the probability that the number on the slip of paper is a perfect square (i.e., 1, 4, 9, or 16)? \n",
    "\n",
    "\n",
    "Total number of favorable outcomes: There are four perfect squares between 1 and 20, which is 1, 4, 9, and 16.\n",
    "Probability = 4 / 20\n",
    "\n",
    "Ans - The probability that the number drawn from a perfect square is 1/5 or 0.2, which can also be expressed as 20%.\n"
   ]
  },
  {
   "cell_type": "code",
   "execution_count": null,
   "id": "ecd82cf4",
   "metadata": {},
   "outputs": [],
   "source": []
  }
 ],
 "metadata": {
  "kernelspec": {
   "display_name": "Python 3 (ipykernel)",
   "language": "python",
   "name": "python3"
  },
  "language_info": {
   "codemirror_mode": {
    "name": "ipython",
    "version": 3
   },
   "file_extension": ".py",
   "mimetype": "text/x-python",
   "name": "python",
   "nbconvert_exporter": "python",
   "pygments_lexer": "ipython3",
   "version": "3.9.16"
  }
 },
 "nbformat": 4,
 "nbformat_minor": 5
}
