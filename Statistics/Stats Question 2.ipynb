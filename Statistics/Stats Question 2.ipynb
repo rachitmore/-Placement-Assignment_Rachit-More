{
 "cells": [
  {
   "cell_type": "markdown",
   "id": "3cce66f8",
   "metadata": {},
   "source": [
    "Q-2. Consider a dataset containing the heights (in centimeters) of 1000 individuals. The mean height is 170 cm with a standard deviation of 10 cm. The dataset is approximately normally distributed, and its skewness is approximately zero. Based on this information, answer the following questions: \n"
   ]
  },
  {
   "cell_type": "code",
   "execution_count": 9,
   "id": "95616c0a",
   "metadata": {},
   "outputs": [],
   "source": [
    "import scipy.stats as stats"
   ]
  },
  {
   "cell_type": "code",
   "execution_count": 19,
   "id": "463e2148",
   "metadata": {},
   "outputs": [
    {
     "name": "stdout",
     "output_type": "stream",
     "text": [
      "68.26894921370858\n"
     ]
    }
   ],
   "source": [
    "# a. What percentage of individuals in the dataset have heights between 160 cm and 180 cm? \n",
    "\n",
    "mean = 170\n",
    "std = 10\n",
    "x1 = 160\n",
    "x2 = 180\n",
    "z1 = (x1-mean)/std \n",
    "z2 = (x2-mean)/std\n",
    "\n",
    "p1_value =  stats.norm.cdf(z2)\n",
    "p2_value = stats.norm.cdf(z1)\n",
    "\n",
    "percentage_range_ = p1_value - p2_value \n",
    "\n",
    "percentage = percentage_range_*100\n",
    "print(percentage)\n"
   ]
  },
  {
   "cell_type": "code",
   "execution_count": 25,
   "id": "bce6415e",
   "metadata": {},
   "outputs": [
    {
     "name": "stdout",
     "output_type": "stream",
     "text": [
      "Z-score : 5.0\n",
      "p_value : 0.8413447460685429\n",
      "84.1344746068543\n",
      "The probability is extremely close to 1, which means that the probability that the average height of a randomly selected sample of 100 individuals is greater than 175 cm is almost 100%.\n",
      "\n"
     ]
    }
   ],
   "source": [
    "# b. If we randomly select 100 individuals from the dataset, what is the probability that their average height is greater than 175 cm? \n",
    "\n",
    "\n",
    "# z-score for a sample mean of 175 cm: \n",
    "z = (175 - 170) / 1\n",
    "print(\"Z-score :\",z)\n",
    "p_value = stats.norm.cdf(z2)\n",
    "print('p_value :', p_value)\n",
    "probability = p_value*100\n",
    "print(probability)\n",
    "\n",
    "print('''The probability is extremely close to 1, which means that the probability that the average height of a randomly selected sample of 100 individuals is greater than 175 cm is almost 100%.\n",
    "''')\n"
   ]
  },
  {
   "cell_type": "code",
   "execution_count": 26,
   "id": "b98f3047",
   "metadata": {},
   "outputs": [
    {
     "name": "stdout",
     "output_type": "stream",
     "text": [
      "z-score 1.5\n",
      "The z-score corresponding to a height of 185 cm is 1.5\n"
     ]
    }
   ],
   "source": [
    "# c. Assuming the dataset follows a normal distribution, what is the z-score corresponding to a height of 185 cm? \n",
    "\n",
    "z = (185 - 170) / 10 \n",
    "print('z-score' ,z)\n",
    "\n",
    "print('The z-score corresponding to a height of 185 cm is 1.5')\n"
   ]
  },
  {
   "cell_type": "code",
   "execution_count": 29,
   "id": "ddae981d",
   "metadata": {},
   "outputs": [
    {
     "name": "stdout",
     "output_type": "stream",
     "text": [
      "The approximate height corresponding to the threshold below which 5% of the dataset falls is approximately 153.55 cm.\n",
      "\n"
     ]
    }
   ],
   "source": [
    "# d. We know that 5% of the dataset has heights below a certain value. What is the approximate height corresponding to this threshold? \n",
    "\n",
    "Mean = 170\n",
    "std = 10\n",
    "p_value = stats.norm.ppf(0.05)\n",
    "x = mean + (p_value * std)\n",
    "x = 170 + (-1.645 * 10) \n",
    "print(\"\"\"The approximate height corresponding to the threshold below which 5% of the dataset falls is approximately 153.55 cm.\n",
    "\"\"\")"
   ]
  },
  {
   "cell_type": "code",
   "execution_count": 32,
   "id": "88b06ded",
   "metadata": {},
   "outputs": [
    {
     "name": "stdout",
     "output_type": "stream",
     "text": [
      "The coefficient of variation (CV) for the dataset is  5.88235294117647\n"
     ]
    }
   ],
   "source": [
    "# e. Calculate the coefficient of variation (CV) for the dataset. \n",
    "\n",
    "cv = (std / Mean) * 100\n",
    "print(\"The coefficient of variation (CV) for the dataset is \",cv)"
   ]
  },
  {
   "cell_type": "code",
   "execution_count": 34,
   "id": "26393c28",
   "metadata": {},
   "outputs": [
    {
     "name": "stdout",
     "output_type": "stream",
     "text": [
      "It already mention in that question skewness of the dataset is zero\n",
      "If we try to calculate skewness we need median and median is not available and if we consider mean == median then skewness become zero\n"
     ]
    }
   ],
   "source": [
    "# f. Calculate the skewness of the dataset and interpret the result.\n",
    "# Skewness = (3 * (Mean - Median)) / Standard Deviation\n",
    "print(\"It already mention in that question skewness of the dataset is zero\" )\n",
    "print(\"\"\"If we try to calculate skewness we need median and median is not available and if we consider mean == median then skewness become zero\"\"\")"
   ]
  }
 ],
 "metadata": {
  "kernelspec": {
   "display_name": "Python 3 (ipykernel)",
   "language": "python",
   "name": "python3"
  },
  "language_info": {
   "codemirror_mode": {
    "name": "ipython",
    "version": 3
   },
   "file_extension": ".py",
   "mimetype": "text/x-python",
   "name": "python",
   "nbconvert_exporter": "python",
   "pygments_lexer": "ipython3",
   "version": "3.9.13"
  }
 },
 "nbformat": 4,
 "nbformat_minor": 5
}
