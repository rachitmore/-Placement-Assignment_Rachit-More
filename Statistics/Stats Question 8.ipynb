{
 "cells": [
  {
   "cell_type": "code",
   "execution_count": 2,
   "id": "4cfb34a8",
   "metadata": {},
   "outputs": [],
   "source": [
    "import numpy as np"
   ]
  },
  {
   "cell_type": "code",
   "execution_count": 12,
   "id": "01e3082b",
   "metadata": {},
   "outputs": [],
   "source": [
    "Participant=[1,2,3,4,5,6,7,8,9,10]\n",
    "Before_therapy=[10,8,12,15,6,9,11,7,14,10]\n",
    "After_therapy=[7,6,10,12,5,8,9,6,12,8]\n",
    "Before_therapy = np.array(Before_therapy)\n",
    "After_therapy = np.array(After_therapy)"
   ]
  },
  {
   "cell_type": "code",
   "execution_count": 11,
   "id": "aa1c7b10",
   "metadata": {},
   "outputs": [
    {
     "name": "stdout",
     "output_type": "stream",
     "text": [
      "Wilcoxon Signed-Rank Test:\n",
      "Statistic: 0.0\n",
      "p-value: 0.001953125\n",
      "The therapy had a significant effect on anxiety levels.\n"
     ]
    }
   ],
   "source": [
    "from scipy.stats import wilcoxon\n",
    "\n",
    "# Extract the difference scores\n",
    "differences = After_therapy - Before_therapy\n",
    "\n",
    "# Perform the Wilcoxon signed-rank test\n",
    "statistic, p_value = wilcoxon(differences)\n",
    "\n",
    "print(\"Wilcoxon Signed-Rank Test:\")\n",
    "print(\"Statistic:\", statistic)\n",
    "print(\"p-value:\", p_value)\n",
    "\n",
    "if p_value < 0.05:\n",
    "    print(\"The therapy had a significant effect on anxiety levels.\")\n",
    "else:\n",
    "    print(\"The therapy did not have a significant effect on anxiety levels.\")"
   ]
  },
  {
   "cell_type": "code",
   "execution_count": null,
   "id": "145bf988",
   "metadata": {},
   "outputs": [],
   "source": []
  }
 ],
 "metadata": {
  "kernelspec": {
   "display_name": "Python 3 (ipykernel)",
   "language": "python",
   "name": "python3"
  },
  "language_info": {
   "codemirror_mode": {
    "name": "ipython",
    "version": 3
   },
   "file_extension": ".py",
   "mimetype": "text/x-python",
   "name": "python",
   "nbconvert_exporter": "python",
   "pygments_lexer": "ipython3",
   "version": "3.9.13"
  }
 },
 "nbformat": 4,
 "nbformat_minor": 5
}
