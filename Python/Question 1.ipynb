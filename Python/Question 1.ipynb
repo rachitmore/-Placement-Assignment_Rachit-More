{
 "cells": [
  {
   "cell_type": "markdown",
   "id": "6891ae66",
   "metadata": {},
   "source": [
    "Question 1: -\n",
    "Write a program that takes a string as input, and counts the frequency of each word in the string, there might be repeated characters in the string. Your task is to find the highest frequency and returns the length of the highest-frequency word. \n",
    "\n",
    "Note - You have to write at least 2 additional test cases in which your program will run successfully and provide an explanation for the same. \n",
    "\n",
    "Example input - string = “write write write all the number from from from 1 to 100” \n",
    "\n",
    "Example output - 5 \n",
    "\n",
    "Explanation - From the given string we can note that the most frequent words are “write” and “from” and the maximum value of both the values is “write” and its corresponding length is 5"
   ]
  },
  {
   "cell_type": "code",
   "execution_count": 1,
   "id": "cda05adc",
   "metadata": {},
   "outputs": [
    {
     "name": "stdout",
     "output_type": "stream",
     "text": [
      "5\n",
      "8\n",
      "7\n"
     ]
    }
   ],
   "source": [
    "def mx_valct_mx_len(string):\n",
    "    #split the string to get the characters\n",
    "    lst = string.split()\n",
    "    l1 = []\n",
    "    for i in lst:\n",
    "        l1.append(lst.count(i))# value count of string in list l1\n",
    "    l2  = []\n",
    "    for i in lst:\n",
    "        if max(l1)==lst.count(i):# comparing maximum value count and appending in list l2\n",
    "            l2.append(i)\n",
    "    l3 = []\n",
    "    for i in l2:\n",
    "        l3.append(len(i))#appending the length of maximum value count string\n",
    "    return max(l3)# returning the length who has maximum value count and max length \n",
    "\n",
    "string = 'write write write all the number from from from 1 to 100'\n",
    "string1 = 'write the thing all thing again thing remember and again to remember remember every thing remember'\n",
    "string2 = 'The only only way to learn learn to program program is by writing writing code'\n",
    "    \n",
    "print(mx_valct_mx_len(string)) #5\n",
    "print(mx_valct_mx_len(string1)) #8\n",
    "print(mx_valct_mx_len(string2)) #7"
   ]
  }
 ],
 "metadata": {
  "kernelspec": {
   "display_name": "Python 3 (ipykernel)",
   "language": "python",
   "name": "python3"
  },
  "language_info": {
   "codemirror_mode": {
    "name": "ipython",
    "version": 3
   },
   "file_extension": ".py",
   "mimetype": "text/x-python",
   "name": "python",
   "nbconvert_exporter": "python",
   "pygments_lexer": "ipython3",
   "version": "3.9.13"
  }
 },
 "nbformat": 4,
 "nbformat_minor": 5
}
