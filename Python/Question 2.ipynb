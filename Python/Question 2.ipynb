{
 "cells": [
  {
   "cell_type": "markdown",
   "id": "3373e653",
   "metadata": {},
   "source": [
    "Question 2: - \n",
    "Consider a string to be valid if all characters of the string appear the same number of times. It is also valid if he can remove just one character at the index in the string, and the remaining characters will occur the same number of times. Given a string, determine if it is valid. If so, return YES , otherwise return NO . \n",
    "\n",
    "Note - You have to write at least 2 additional test cases in which your program will run successfully and provide an explanation for the same. \n",
    "\n",
    "Example input 1 - s = “abc”. This is a valid string because frequencies are { “a”: 1, “b”: 1, “c”: 1 } \n",
    "\n",
    "Example output 1- YES \n",
    "\n",
    "Example input 2 - s “abcc”. \n",
    "\n",
    "This string is not valid as we can remove only 1 occurrence of “c”. That leaves character frequencies of { “a”: 1, “b”: 1 , “c”: 2 } \n",
    "\n",
    "Example output 2 - NO"
   ]
  },
  {
   "cell_type": "code",
   "execution_count": 2,
   "id": "2ee476ed",
   "metadata": {},
   "outputs": [
    {
     "name": "stdout",
     "output_type": "stream",
     "text": [
      "YES\n",
      "YES\n",
      "NO\n",
      "NO\n"
     ]
    }
   ],
   "source": [
    "def program(s):\n",
    "    dic = {}\n",
    "    for i in s:\n",
    "        dic.update({i:s.count(i)})#Creating dict of char and value_count\n",
    "    lst = list(dic.values()) #Creating list of dict values \n",
    "    result = True\n",
    "    first_element = lst[0] #initializing lst first variable to first_element\n",
    "    for word in lst:\n",
    "       if first_element != word:# checking value count of char is same or not\n",
    "          result = False# if not return False else it remain True\n",
    "\n",
    "    if result:\n",
    "        return \"YES\"\n",
    "    else:\n",
    "        return \"NO\"\n",
    "    \n",
    "s1 = 'abc'\n",
    "s2 = 'aabbcc'\n",
    "s3 = 'aaabcaa'\n",
    "s4 = \"addsfsa\"\n",
    "print(program(s1))\n",
    "print(program(s2))\n",
    "print(program(s3))\n",
    "print(program(s4))"
   ]
  }
 ],
 "metadata": {
  "kernelspec": {
   "display_name": "Python 3 (ipykernel)",
   "language": "python",
   "name": "python3"
  },
  "language_info": {
   "codemirror_mode": {
    "name": "ipython",
    "version": 3
   },
   "file_extension": ".py",
   "mimetype": "text/x-python",
   "name": "python",
   "nbconvert_exporter": "python",
   "pygments_lexer": "ipython3",
   "version": "3.9.13"
  }
 },
 "nbformat": 4,
 "nbformat_minor": 5
}
